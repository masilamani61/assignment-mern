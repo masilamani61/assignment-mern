{
 "cells": [
  {
   "cell_type": "code",
   "execution_count": 1,
   "id": "8accf58d",
   "metadata": {
    "_cell_guid": "b1076dfc-b9ad-4769-8c92-a6c4dae69d19",
    "_uuid": "8f2839f25d086af736a60e9eeb907d3b93b6e0e5",
    "execution": {
     "iopub.execute_input": "2025-04-17T14:22:46.995599Z",
     "iopub.status.busy": "2025-04-17T14:22:46.995206Z",
     "iopub.status.idle": "2025-04-17T14:22:48.955355Z",
     "shell.execute_reply": "2025-04-17T14:22:48.954381Z"
    },
    "papermill": {
     "duration": 1.96553,
     "end_time": "2025-04-17T14:22:48.956930",
     "exception": false,
     "start_time": "2025-04-17T14:22:46.991400",
     "status": "completed"
    },
    "tags": []
   },
   "outputs": [],
   "source": [
    "# This Python 3 environment comes with many helpful analytics libraries installed\n",
    "# It is defined by the kaggle/python Docker image: https://github.com/kaggle/docker-python\n",
    "# For example, here's several helpful packages to load\n",
    "\n",
    "import numpy as np # linear algebra\n",
    "import pandas as pd # data processing, CSV file I/O (e.g. pd.read_csv)\n",
    "\n",
    "# Input data files are available in the read-only \"../input/\" directory\n",
    "# For example, running this (by clicking run or pressing Shift+Enter) will list all files under the input directory\n",
    "\n",
    "import os\n",
    "# You can write up to 20GB to the current directory (/kaggle/working/) that gets preserved as output when you create a version using \"Save & Run All\" \n",
    "# You can also write temporary files to /kaggle/temp/, but they won't be saved outside of the current session"
   ]
  },
  {
   "cell_type": "code",
   "execution_count": 2,
   "id": "b892d93e",
   "metadata": {
    "execution": {
     "iopub.execute_input": "2025-04-17T14:22:48.961980Z",
     "iopub.status.busy": "2025-04-17T14:22:48.961580Z",
     "iopub.status.idle": "2025-04-17T14:23:07.500723Z",
     "shell.execute_reply": "2025-04-17T14:23:07.499491Z"
    },
    "papermill": {
     "duration": 18.543666,
     "end_time": "2025-04-17T14:23:07.502661",
     "exception": false,
     "start_time": "2025-04-17T14:22:48.958995",
     "status": "completed"
    },
    "tags": []
   },
   "outputs": [
    {
     "name": "stderr",
     "output_type": "stream",
     "text": [
      "2025-04-17 14:22:52.738498: E external/local_xla/xla/stream_executor/cuda/cuda_fft.cc:477] Unable to register cuFFT factory: Attempting to register factory for plugin cuFFT when one has already been registered\n",
      "WARNING: All log messages before absl::InitializeLog() is called are written to STDERR\n",
      "E0000 00:00:1744899773.010383      13 cuda_dnn.cc:8310] Unable to register cuDNN factory: Attempting to register factory for plugin cuDNN when one has already been registered\n",
      "E0000 00:00:1744899773.087485      13 cuda_blas.cc:1418] Unable to register cuBLAS factory: Attempting to register factory for plugin cuBLAS when one has already been registered\n"
     ]
    }
   ],
   "source": [
    "import cv2\n",
    "import sklearn\n",
    "import tensorflow as tf\n",
    "import numpy\n",
    "import pandas as pd"
   ]
  },
  {
   "cell_type": "code",
   "execution_count": 3,
   "id": "d58a2bfb",
   "metadata": {
    "execution": {
     "iopub.execute_input": "2025-04-17T14:23:07.508251Z",
     "iopub.status.busy": "2025-04-17T14:23:07.507647Z",
     "iopub.status.idle": "2025-04-17T14:24:36.107419Z",
     "shell.execute_reply": "2025-04-17T14:24:36.106339Z"
    },
    "papermill": {
     "duration": 88.604378,
     "end_time": "2025-04-17T14:24:36.109194",
     "exception": false,
     "start_time": "2025-04-17T14:23:07.504816",
     "status": "completed"
    },
    "tags": []
   },
   "outputs": [],
   "source": [
    "ele=['cats','dogs']\n",
    "Xtrain=[]\n",
    "Ytrain=[]\n",
    "Xtest=[]\n",
    "Ytest=[]\n",
    "for x in range(len(ele)):\n",
    "    for _,_,l in os.walk('/kaggle/input/cat-and-dog/test_set/test_set/'+ele[x]):\n",
    "        for j in l:\n",
    "            if j=='_DS_Store':\n",
    "                    continue\n",
    "                \n",
    "            img=cv2.imread('/kaggle/input/cat-and-dog/test_set/test_set/'+ele[x]+'/'+j)\n",
    "            img=cv2.resize(img,(100,100))\n",
    "            img = cv2.cvtColor(img, cv2.COLOR_BGR2GRAY)\n",
    "            Xtest.append(img)\n",
    "            \n",
    "            Ytest.append(x)\n",
    "for x in range(len(ele)):\n",
    "    for _,_,l in os.walk('/kaggle/input/cat-and-dog/training_set/training_set/'+ele[x]):\n",
    "        for j in l:\n",
    "            \n",
    "            if j=='_DS_Store':\n",
    "                continue\n",
    "            \n",
    "            img=cv2.imread('/kaggle/input/cat-and-dog/training_set/training_set/'+ele[x]+'/'+j)\n",
    "            img=cv2.resize(img,(100,100))\n",
    "            img = cv2.cvtColor(img, cv2.COLOR_BGR2GRAY)\n",
    "            Xtrain.append(img)\n",
    "            Ytrain.append(x)\n"
   ]
  },
  {
   "cell_type": "code",
   "execution_count": 4,
   "id": "09487b52",
   "metadata": {
    "execution": {
     "iopub.execute_input": "2025-04-17T14:24:36.114802Z",
     "iopub.status.busy": "2025-04-17T14:24:36.114510Z",
     "iopub.status.idle": "2025-04-17T14:24:36.121100Z",
     "shell.execute_reply": "2025-04-17T14:24:36.120168Z"
    },
    "papermill": {
     "duration": 0.011258,
     "end_time": "2025-04-17T14:24:36.122905",
     "exception": false,
     "start_time": "2025-04-17T14:24:36.111647",
     "status": "completed"
    },
    "tags": []
   },
   "outputs": [
    {
     "data": {
      "text/plain": [
       "<module 'tensorflow' from '/usr/local/lib/python3.11/dist-packages/tensorflow/__init__.py'>"
      ]
     },
     "execution_count": 4,
     "metadata": {},
     "output_type": "execute_result"
    }
   ],
   "source": [
    "tf"
   ]
  }
 ],
 "metadata": {
  "kaggle": {
   "accelerator": "none",
   "dataSources": [
    {
     "datasetId": 23777,
     "sourceId": 30378,
     "sourceType": "datasetVersion"
    },
    {
     "sourceId": 74342528,
     "sourceType": "kernelVersion"
    }
   ],
   "dockerImageVersionId": 31012,
   "isGpuEnabled": false,
   "isInternetEnabled": true,
   "language": "python",
   "sourceType": "notebook"
  },
  "kernelspec": {
   "display_name": "Python 3",
   "language": "python",
   "name": "python3"
  },
  "language_info": {
   "codemirror_mode": {
    "name": "ipython",
    "version": 3
   },
   "file_extension": ".py",
   "mimetype": "text/x-python",
   "name": "python",
   "nbconvert_exporter": "python",
   "pygments_lexer": "ipython3",
   "version": "3.11.11"
  },
  "papermill": {
   "default_parameters": {},
   "duration": 117.225481,
   "end_time": "2025-04-17T14:24:39.114274",
   "environment_variables": {},
   "exception": null,
   "input_path": "__notebook__.ipynb",
   "output_path": "__notebook__.ipynb",
   "parameters": {},
   "start_time": "2025-04-17T14:22:41.888793",
   "version": "2.6.0"
  }
 },
 "nbformat": 4,
 "nbformat_minor": 5
}
